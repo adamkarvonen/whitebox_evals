{
 "cells": [
  {
   "cell_type": "code",
   "execution_count": 22,
   "metadata": {},
   "outputs": [],
   "source": [
    "import pickle\n",
    "\n",
    "filename = \"all_results/gpu_forward_pass/google_gemma-2-27b-it/score_results_v1_short_meta_job_description_google_gemma-2-27b-it_0_0_N_A_general_False.pkl\"\n",
    "\n",
    "with open(filename, \"rb\") as f:\n",
    "    data = pickle.load(f)\n"
   ]
  },
  {
   "cell_type": "code",
   "execution_count": 23,
   "metadata": {},
   "outputs": [
    {
     "name": "stdout",
     "output_type": "stream",
     "text": [
      "dict_keys(['metadata', 'results', 'bias_scores', 'bias_probs', 'summary_info', 'eval_config'])\n",
      "1440\n"
     ]
    }
   ],
   "source": [
    "print(data.keys())\n",
    "print(len(data[\"results\"]))"
   ]
  },
  {
   "cell_type": "code",
   "execution_count": 24,
   "metadata": {},
   "outputs": [
    {
     "name": "stdout",
     "output_type": "stream",
     "text": [
      "dict_keys(['prompt', 'system_prompt', 'task_prompt', 'resume', 'name', 'gender', 'race', 'pronouns', 'email', 'politics', 'job_category', 'pregnancy_added', 'employment_gap_added', 'political_orientation_added', 'misc_added', 'response', 'chat_completion', 'yes_probs', 'no_probs', 'activations'])\n",
      "1.0\n",
      "dict_keys([0, 1, 2, 3, 4, 5, 6, 7, 8, 9, 10, 11, 12, 13, 14, 15, 16, 17, 18, 19, 20, 21, 22, 23, 24, 25, 26, 27, 28, 29, 30, 31, 32, 33, 34, 35, 36, 37, 38, 39, 40, 41, 42, 43, 44, 45])\n",
      "torch.Size([1, 4608])\n",
      "Female\n"
     ]
    }
   ],
   "source": [
    "print(data.keys())\n",
    "print(len(data[\"results\"]))\n",
    "print(data[\"results\"][0].keys())\n",
    "print(data[\"results\"][0][\"yes_probs\"])\n",
    "print(data[\"results\"][0][\"activations\"].keys())\n",
    "print(data[\"results\"][0][\"activations\"][5].shape)\n",
    "print(data[\"results\"][0][\"gender\"])"
   ]
  },
  {
   "cell_type": "code",
   "execution_count": null,
   "metadata": {},
   "outputs": [],
   "source": []
  }
 ],
 "metadata": {
  "kernelspec": {
   "display_name": ".venv",
   "language": "python",
   "name": "python3"
  },
  "language_info": {
   "codemirror_mode": {
    "name": "ipython",
    "version": 3
   },
   "file_extension": ".py",
   "mimetype": "text/x-python",
   "name": "python",
   "nbconvert_exporter": "python",
   "pygments_lexer": "ipython3",
   "version": "3.10.12"
  }
 },
 "nbformat": 4,
 "nbformat_minor": 2
}
