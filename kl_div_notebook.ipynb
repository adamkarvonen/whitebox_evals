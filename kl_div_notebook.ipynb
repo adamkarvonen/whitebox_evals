{
 "cells": [
  {
   "cell_type": "code",
   "execution_count": 8,
   "metadata": {},
   "outputs": [
    {
     "name": "stdout",
     "output_type": "stream",
     "text": [
      "Processing pair 1/9: logits_0.pt\n",
      "Processing pair 2/9: logits_1.pt\n",
      "Processing pair 3/9: logits_2.pt\n",
      "Processing pair 4/9: logits_3.pt\n",
      "Processing pair 5/9: logits_4.pt\n",
      "Processing pair 6/9: logits_5.pt\n",
      "Processing pair 7/9: logits_6.pt\n",
      "Processing pair 8/9: logits_7.pt\n",
      "Processing pair 9/9: logits_8.pt\n",
      "Mean KL divergence: 0.026359\n"
     ]
    }
   ],
   "source": [
    "import torch\n",
    "import torch.nn.functional as F\n",
    "import os\n",
    "from pathlib import Path\n",
    "\n",
    "def compute_mean_kl_divergence_from_folders(folder1, folder2):\n",
    "    \"\"\"\n",
    "    Compute mean KL divergence between logits stored in two folders.\n",
    "    Loads one pair of files at a time to minimize memory usage.\n",
    "    \n",
    "    Args:\n",
    "        folder1: Path to first folder containing logits_*.pt files\n",
    "        folder2: Path to second folder containing logits_*.pt files\n",
    "    \n",
    "    Returns:\n",
    "        Mean KL divergence across all samples\n",
    "    \"\"\"\n",
    "    # Get all logit files from folder1\n",
    "    logit_files1 = sorted([f for f in os.listdir(folder1) if f.startswith(\"logits_\") and f.endswith(\".pt\")])\n",
    "    logit_files2 = sorted([f for f in os.listdir(folder2) if f.startswith(\"logits_\") and f.endswith(\".pt\")])\n",
    "    \n",
    "    assert len(logit_files1) == len(logit_files2), f\"Folders have different number of files: {len(logit_files1)} vs {len(logit_files2)}\"\n",
    "    \n",
    "    total_kl_sum = 0.0\n",
    "    total_count = 0\n",
    "    \n",
    "    # Process one pair at a time\n",
    "    for i, (file1, file2) in enumerate(zip(logit_files1, logit_files2)):\n",
    "        print(f\"Processing pair {i+1}/{len(logit_files1)}: {file1}\")\n",
    "        \n",
    "        # Load one pair\n",
    "        logits_a = torch.load(os.path.join(folder1, file1))\n",
    "        logits_b = torch.load(os.path.join(folder2, file2))\n",
    "        \n",
    "        assert logits_a.shape == logits_b.shape, f\"Shape mismatch: {logits_a.shape} vs {logits_b.shape}\"\n",
    "        \n",
    "        # Convert logits to log probabilities\n",
    "        log_probs_a = F.log_softmax(logits_a, dim=-1)\n",
    "        log_probs_b = F.log_softmax(logits_b, dim=-1)\n",
    "        \n",
    "        # Convert logits to probabilities for the first distribution\n",
    "        probs_a = F.softmax(logits_a, dim=-1)\n",
    "        \n",
    "        # Compute KL divergence\n",
    "        kl_div = (probs_a * (log_probs_a - log_probs_b)).sum(dim=-1)\n",
    "        \n",
    "        # Update running statistics\n",
    "        total_kl_sum += kl_div.sum().item()\n",
    "        total_count += kl_div.numel()\n",
    "        \n",
    "        # Clean up memory\n",
    "        del logits_a, logits_b, log_probs_a, log_probs_b, probs_a, kl_div\n",
    "        torch.cuda.empty_cache()  # If using GPU\n",
    "    \n",
    "    mean_kl_div = total_kl_sum / total_count\n",
    "    return mean_kl_div\n",
    "\n",
    "# Usage\n",
    "# folder1 = \"v1_logits_mistralai_Ministral-8B-Instruct-2410\"\n",
    "folder2 = \"logits_mistralai_Ministral-8B-Instruct-2410\"\n",
    "folder1 = \"bf16_ablation_logits_mistralai_Ministral-8B-Instruct-2410\"\n",
    "# folder1 = \"fp32_ablation_logits_mistralai_Ministral-8B-Instruct-2410\"\n",
    "# folder2 = \"ablation_logits_mistralai_Ministral-8B-Instruct-2410\"\n",
    "folder2 = \"ablation_logits_orthogonalized_mistralai_Ministral-8B-Instruct-2410\"\n",
    "\n",
    "mean_kl = compute_mean_kl_divergence_from_folders(folder1, folder2)\n",
    "print(f\"Mean KL divergence: {mean_kl:.6f}\")"
   ]
  },
  {
   "cell_type": "code",
   "execution_count": null,
   "metadata": {},
   "outputs": [],
   "source": []
  }
 ],
 "metadata": {
  "kernelspec": {
   "display_name": ".venv",
   "language": "python",
   "name": "python3"
  },
  "language_info": {
   "codemirror_mode": {
    "name": "ipython",
    "version": 3
   },
   "file_extension": ".py",
   "mimetype": "text/x-python",
   "name": "python",
   "nbconvert_exporter": "python",
   "pygments_lexer": "ipython3",
   "version": "3.10.12"
  }
 },
 "nbformat": 4,
 "nbformat_minor": 2
}
