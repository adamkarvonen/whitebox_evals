{
 "cells": [
  {
   "cell_type": "code",
   "execution_count": 1,
   "metadata": {},
   "outputs": [
    {
     "name": "stderr",
     "output_type": "stream",
     "text": [
      "/home/ubuntu/whitebox_evals/.venv/lib/python3.10/site-packages/tqdm/auto.py:21: TqdmWarning: IProgress not found. Please update jupyter and ipywidgets. See https://ipywidgets.readthedocs.io/en/stable/user_install.html\n",
      "  from .autonotebook import tqdm as notebook_tqdm\n"
     ]
    }
   ],
   "source": [
    "import torch\n",
    "from transformers import AutoModelForCausalLM, AutoTokenizer\n",
    "from jaxtyping import Float\n",
    "from torch import Tensor\n"
   ]
  },
  {
   "cell_type": "code",
   "execution_count": 2,
   "metadata": {},
   "outputs": [
    {
     "name": "stderr",
     "output_type": "stream",
     "text": [
      "2025-05-23 20:17:36.377313: E external/local_xla/xla/stream_executor/cuda/cuda_fft.cc:477] Unable to register cuFFT factory: Attempting to register factory for plugin cuFFT when one has already been registered\n",
      "WARNING: All log messages before absl::InitializeLog() is called are written to STDERR\n",
      "E0000 00:00:1748031456.386842   53042 cuda_dnn.cc:8310] Unable to register cuDNN factory: Attempting to register factory for plugin cuDNN when one has already been registered\n",
      "E0000 00:00:1748031456.391873   53042 cuda_blas.cc:1418] Unable to register cuBLAS factory: Attempting to register factory for plugin cuBLAS when one has already been registered\n"
     ]
    },
    {
     "ename": "AttributeError",
     "evalue": "'MessageFactory' object has no attribute 'GetPrototype'",
     "output_type": "error",
     "traceback": [
      "\u001b[0;31m---------------------------------------------------------------------------\u001b[0m",
      "\u001b[0;31mAttributeError\u001b[0m                            Traceback (most recent call last)",
      "\u001b[0;31mAttributeError\u001b[0m: 'MessageFactory' object has no attribute 'GetPrototype'"
     ]
    },
    {
     "ename": "AttributeError",
     "evalue": "'MessageFactory' object has no attribute 'GetPrototype'",
     "output_type": "error",
     "traceback": [
      "\u001b[0;31m---------------------------------------------------------------------------\u001b[0m",
      "\u001b[0;31mAttributeError\u001b[0m                            Traceback (most recent call last)",
      "\u001b[0;31mAttributeError\u001b[0m: 'MessageFactory' object has no attribute 'GetPrototype'"
     ]
    },
    {
     "ename": "AttributeError",
     "evalue": "'MessageFactory' object has no attribute 'GetPrototype'",
     "output_type": "error",
     "traceback": [
      "\u001b[0;31m---------------------------------------------------------------------------\u001b[0m",
      "\u001b[0;31mAttributeError\u001b[0m                            Traceback (most recent call last)",
      "\u001b[0;31mAttributeError\u001b[0m: 'MessageFactory' object has no attribute 'GetPrototype'"
     ]
    },
    {
     "ename": "AttributeError",
     "evalue": "'MessageFactory' object has no attribute 'GetPrototype'",
     "output_type": "error",
     "traceback": [
      "\u001b[0;31m---------------------------------------------------------------------------\u001b[0m",
      "\u001b[0;31mAttributeError\u001b[0m                            Traceback (most recent call last)",
      "\u001b[0;31mAttributeError\u001b[0m: 'MessageFactory' object has no attribute 'GetPrototype'"
     ]
    },
    {
     "ename": "AttributeError",
     "evalue": "'MessageFactory' object has no attribute 'GetPrototype'",
     "output_type": "error",
     "traceback": [
      "\u001b[0;31m---------------------------------------------------------------------------\u001b[0m",
      "\u001b[0;31mAttributeError\u001b[0m                            Traceback (most recent call last)",
      "\u001b[0;31mAttributeError\u001b[0m: 'MessageFactory' object has no attribute 'GetPrototype'"
     ]
    },
    {
     "name": "stderr",
     "output_type": "stream",
     "text": [
      "Loading checkpoint shards: 100%|██████████| 4/4 [00:02<00:00,  1.39it/s]\n"
     ]
    }
   ],
   "source": [
    "model = AutoModelForCausalLM.from_pretrained(\"mistralai/Ministral-8B-Instruct-2410\", torch_dtype=torch.bfloat16, device_map=\"auto\")"
   ]
  },
  {
   "cell_type": "code",
   "execution_count": 4,
   "metadata": {},
   "outputs": [
    {
     "name": "stdout",
     "output_type": "stream",
     "text": [
      "MistralForCausalLM(\n",
      "  (model): MistralModel(\n",
      "    (embed_tokens): Embedding(131072, 4096)\n",
      "    (layers): ModuleList(\n",
      "      (0-35): 36 x MistralDecoderLayer(\n",
      "        (self_attn): MistralAttention(\n",
      "          (q_proj): Linear(in_features=4096, out_features=4096, bias=False)\n",
      "          (k_proj): Linear(in_features=4096, out_features=1024, bias=False)\n",
      "          (v_proj): Linear(in_features=4096, out_features=1024, bias=False)\n",
      "          (o_proj): Linear(in_features=4096, out_features=4096, bias=False)\n",
      "        )\n",
      "        (mlp): MistralMLP(\n",
      "          (gate_proj): Linear(in_features=4096, out_features=12288, bias=False)\n",
      "          (up_proj): Linear(in_features=4096, out_features=12288, bias=False)\n",
      "          (down_proj): Linear(in_features=12288, out_features=4096, bias=False)\n",
      "          (act_fn): SiLU()\n",
      "        )\n",
      "        (input_layernorm): MistralRMSNorm((4096,), eps=1e-05)\n",
      "        (post_attention_layernorm): MistralRMSNorm((4096,), eps=1e-05)\n",
      "      )\n",
      "    )\n",
      "    (norm): MistralRMSNorm((4096,), eps=1e-05)\n",
      "    (rotary_emb): MistralRotaryEmbedding()\n",
      "  )\n",
      "  (lm_head): Linear(in_features=4096, out_features=131072, bias=False)\n",
      ")\n"
     ]
    }
   ],
   "source": [
    "print(model)"
   ]
  },
  {
   "cell_type": "code",
   "execution_count": 3,
   "metadata": {},
   "outputs": [],
   "source": [
    "torch.manual_seed(42)\n",
    "vector = torch.randn(2, 4096, device=model.device)\n",
    "\n",
    "\n",
    "def orthogonalize_vectors(dirs_KD: Float[Tensor, \"K d_model\"]) -> Float[Tensor, \"K d_model\"]:\n",
    "    dirs_KD = torch.nn.functional.normalize(dirs_KD, dim=1)\n",
    "\n",
    "    # Orthogonalize the directions using QR decomposition\n",
    "    # Transpose to (D, K) for QR, then transpose back\n",
    "    dirs_DK = dirs_KD.T\n",
    "    Q, R = torch.linalg.qr(dirs_DK, mode=\"reduced\")\n",
    "    # Q is (D, K) with orthonormal columns\n",
    "    dirs_KD_ortho = Q.T  # Back to (K, D)\n",
    "\n",
    "    # Note: If K > D or vectors are linearly dependent, some columns of Q might be zero\n",
    "    # We should filter those out\n",
    "    norms = torch.norm(dirs_KD_ortho, dim=1)\n",
    "    valid_mask = norms > 1e-6\n",
    "    dirs_KD_ortho = dirs_KD_ortho[valid_mask]\n",
    "\n",
    "    return dirs_KD_ortho\n",
    "\n",
    "vector = orthogonalize_vectors(vector).to(dtype=torch.float32)\n",
    "\n",
    "dirs = {}\n",
    "\n",
    "for i, layer in enumerate(model.model.layers):\n",
    "    dirs[i] = [vector[0], vector[1]]"
   ]
  },
  {
   "cell_type": "code",
   "execution_count": null,
   "metadata": {},
   "outputs": [],
   "source": [
    "def orthogonalize_matrix_to_directions(\n",
    "    W: Float[Tensor, \"d_out d_in\"], \n",
    "    directions: list[Float[Tensor, \"d_out\"]]\n",
    ") -> Float[Tensor, \"d_out d_in\"]:\n",
    "    \"\"\"\n",
    "    Orthogonalize a weight matrix W so it doesn't write to specified directions.\n",
    "    \n",
    "    W_new = W - sum_k (r_k @ r_k.T @ W)\n",
    "    \n",
    "    where r_k are normalized direction vectors.\n",
    "    \"\"\"\n",
    "    W_ortho = W.clone().to(dtype=torch.float32)\n",
    "    \n",
    "    # First orthogonalize the directions themselves (like in your hook)\n",
    "    if len(directions) > 0:\n",
    "        dirs_KD = torch.stack(directions)\n",
    "        dirs_KD_ortho = orthogonalize_vectors(dirs_KD)\n",
    "        \n",
    "        # Project out each orthogonalized direction\n",
    "        for direction in dirs_KD_ortho:\n",
    "            direction = direction / (direction.norm() + 1e-8)  # Normalize\n",
    "            # W_new = W - r @ r.T @ W\n",
    "            projection = torch.outer(direction, direction) @ W_ortho\n",
    "            W_ortho = W_ortho - projection\n",
    "    \n",
    "    return W_ortho.to(dtype=torch.bfloat16)\n",
    "\n",
    "\n",
    "def orthogonalize_model_weights(\n",
    "    model: AutoModelForCausalLM,\n",
    "    layer_directions: dict[int, list[Float[Tensor, \"d_model\"]]]\n",
    "):\n",
    "    \"\"\"\n",
    "    Orthogonalize all residual stream writes in the model.\n",
    "    \n",
    "    Args:\n",
    "        model: The transformer model\n",
    "        layer_directions: Dict mapping layer index to list of directions\n",
    "    \"\"\"\n",
    "    \n",
    "    # 1. Orthogonalize embedding matrix (affects all layers)\n",
    "    # You might want to use directions from layer 0 or average across layers\n",
    "    if 0 in layer_directions:\n",
    "        model.model.embed_tokens.weight.data = orthogonalize_matrix_to_directions(\n",
    "            model.model.embed_tokens.weight.data.T,  # Transpose to (d_model, vocab_size)\n",
    "            layer_directions[0]\n",
    "        ).T  # Transpose back\n",
    "    \n",
    "    # 2. Orthogonalize each layer's output projections\n",
    "    for layer_idx, layer in enumerate(model.model.layers):\n",
    "        if layer_idx not in layer_directions:\n",
    "            continue\n",
    "            \n",
    "        directions = layer_directions[layer_idx]\n",
    "        \n",
    "        # Attention output projection\n",
    "        layer.self_attn.o_proj.weight.data = orthogonalize_matrix_to_directions(\n",
    "            layer.self_attn.o_proj.weight.data,\n",
    "            directions\n",
    "        )\n",
    "        \n",
    "        # MLP output projection  \n",
    "        layer.mlp.down_proj.weight.data = orthogonalize_matrix_to_directions(\n",
    "            layer.mlp.down_proj.weight.data,\n",
    "            directions\n",
    "        )\n",
    "    \n",
    "    return model\n",
    "\n",
    "model = orthogonalize_model_weights(model, dirs)"
   ]
  },
  {
   "cell_type": "code",
   "execution_count": null,
   "metadata": {},
   "outputs": [],
   "source": []
  }
 ],
 "metadata": {
  "kernelspec": {
   "display_name": ".venv",
   "language": "python",
   "name": "python3"
  },
  "language_info": {
   "codemirror_mode": {
    "name": "ipython",
    "version": 3
   },
   "file_extension": ".py",
   "mimetype": "text/x-python",
   "name": "python",
   "nbconvert_exporter": "python",
   "pygments_lexer": "ipython3",
   "version": "3.10.12"
  }
 },
 "nbformat": 4,
 "nbformat_minor": 2
}
