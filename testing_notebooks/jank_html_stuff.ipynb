{
 "cells": [
  {
   "cell_type": "code",
   "execution_count": null,
   "metadata": {
    "vscode": {
     "languageId": "plaintext"
    }
   },
   "outputs": [],
   "source": [
    "def transfer_html(\n",
    "    selected_tokens_FKL: list[str],\n",
    "    selected_activations_FKL: list[torch.Tensor],\n",
    "    num_display: int = 10,\n",
    "    k: int = 5,\n",
    "):\n",
    "    html_activations = create_html_activations(\n",
    "        selected_tokens_FKL,\n",
    "        selected_activations_FKL,\n",
    "        num_display=num_display,\n",
    "        k=k,\n",
    "    )\n",
    "\n",
    "    REMOTE_USERNAME = \"ubuntu\"\n",
    "    REMOTE_HOSTNAME = \"209.20.156.232\"\n",
    "    REMOTE_BASE_DIR = \"/home/ubuntu/whitebox_evals/html_output_zips\"\n",
    "    LOCAL_TARGET_DIR = \"/Users/adamkarvonen/Documents/html_activations\"\n",
    "    ZIP_PREFIX = f\"{model_name}_layer_{chosen_layers[0]}_trainer_{trainer_id}\".replace(\n",
    "        \"/\", \"_\"\n",
    "    )\n",
    "\n",
    "    os.makedirs(REMOTE_BASE_DIR, exist_ok=True)\n",
    "\n",
    "    scp_cmd = interp_utils.generate_scp_command_for_html_zip(\n",
    "        html_contents=html_activations,\n",
    "        remote_username=REMOTE_USERNAME,\n",
    "        remote_hostname=REMOTE_HOSTNAME,\n",
    "        remote_base_dir=REMOTE_BASE_DIR,\n",
    "        local_target_dir=LOCAL_TARGET_DIR,\n",
    "        zip_filename_prefix=ZIP_PREFIX,\n",
    "    )\n",
    "\n",
    "\n",
    "transfer_html(\n",
    "    max_tokens[top_k_ids.cpu()],\n",
    "    max_acts[top_k_ids.cpu()],\n",
    "    num_display=2,\n",
    "    k=max_tokens.shape[1],\n",
    ")\n",
    "\n",
    "transfer_html(all_attrib_tokens_FBL, all_attrib_acts_FBL, num_display=20, k=all_attrib_acts_FBL.shape[1])"
   ]
  }
 ],
 "metadata": {
  "language_info": {
   "name": "python"
  }
 },
 "nbformat": 4,
 "nbformat_minor": 2
}
