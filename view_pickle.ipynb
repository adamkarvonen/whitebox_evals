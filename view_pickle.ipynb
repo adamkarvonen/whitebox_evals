{
 "cells": [
  {
   "cell_type": "code",
   "execution_count": 1,
   "metadata": {},
   "outputs": [],
   "source": [
    "import pickle"
   ]
  },
  {
   "cell_type": "code",
   "execution_count": 3,
   "metadata": {},
   "outputs": [],
   "source": [
    "filename = \"score_output_v1/projection_ablations/mistralai_Ministral-8B-Instruct-2410/score_results_v2_meta_job_description_mistralai_Ministral-8B-Instruct-2410_1000_0_all.pkl\"\n",
    "\n",
    "with open(filename, \"rb\") as f:\n",
    "    data = pickle.load(f)\n",
    "\n"
   ]
  },
  {
   "cell_type": "code",
   "execution_count": 6,
   "metadata": {},
   "outputs": [
    {
     "name": "stdout",
     "output_type": "stream",
     "text": [
      "dict_keys(['metadata', 'results', 'bias_scores', 'bias_probs', 'eval_config'])\n",
      "{'inference_mode': <InferenceMode.PROJECTION_ABLATIONS: 'projection_ablations'>, 'random_seed': 42, 'model_name': 'mistralai/Ministral-8B-Instruct-2410', 'anti_bias_statement_file': 'v2.txt', 'job_description_file': 'meta_job_description.txt', 'system_prompt_filename': 'yes_no.txt', 'anti_bias_statement_folder': 'generated_anti_bias_statements', 'job_description_folder': 'job_descriptions', 'email_domain': 'gmail', 'resume_dataset_path': 'data/resume/selected_cats_resumes.csv', 'score_output_dir': 'score_output', 'industry': 'INFORMATION-TECHNOLOGY', 'anthropic_dataset': False, 'downsample': 150, 'no_names': False, 'college_name_only': False, 'batch_size_multiplier': 2, 'max_length': 2500, 'overwrite_existing_results': True, 'sae_intervention_type': 'clamping', 'scale': 1000.0, 'bias_type': 'all', 'model_names_to_iterate': ['mistralai/Ministral-8B-Instruct-2410', 'mistralai/Mistral-Small-24B-Instruct-2501', 'google/gemma-2-9b-it', 'google/gemma-2-27b-it'], 'anti_bias_statement_files_to_iterate': ['v2.txt'], 'job_description_files_to_iterate': ['meta_job_description.txt'], 'bias_types_to_iterate': ['all'], 'scales_to_iterate': [1000.0], 'probe_training_lr': 0.0003, 'probe_training_weight_decay': 0.02, 'probe_training_early_stopping_patience': 50, 'probe_training_max_iter': 500, 'probe_training_batch_size': 4096, 'probe_training_begin_layer_percent': 25, 'probe_training_downsample': None, 'probe_training_dataset_name': 'anthropic', 'probe_training_overwrite_previous': True, 'probe_training_anti_bias_statement_file': 'v2.txt', 'probe_training_job_description_file': 'base_description.txt', 'probe_vectors_dir': 'ablation_vectors', 'test_mode': False}\n",
      "inference_mode: projection_ablations\n",
      "random_seed: 42\n",
      "model_name: mistralai/Ministral-8B-Instruct-2410\n",
      "anti_bias_statement_file: v2.txt\n",
      "job_description_file: meta_job_description.txt\n",
      "system_prompt_filename: yes_no.txt\n",
      "anti_bias_statement_folder: generated_anti_bias_statements\n",
      "job_description_folder: job_descriptions\n",
      "email_domain: gmail\n",
      "resume_dataset_path: data/resume/selected_cats_resumes.csv\n",
      "score_output_dir: score_output\n",
      "industry: INFORMATION-TECHNOLOGY\n",
      "anthropic_dataset: False\n",
      "downsample: 150\n",
      "no_names: False\n",
      "college_name_only: False\n",
      "batch_size_multiplier: 2\n",
      "max_length: 2500\n",
      "overwrite_existing_results: True\n",
      "sae_intervention_type: clamping\n",
      "scale: 1000.0\n",
      "bias_type: all\n",
      "model_names_to_iterate: ['mistralai/Ministral-8B-Instruct-2410', 'mistralai/Mistral-Small-24B-Instruct-2501', 'google/gemma-2-9b-it', 'google/gemma-2-27b-it']\n",
      "anti_bias_statement_files_to_iterate: ['v2.txt']\n",
      "job_description_files_to_iterate: ['meta_job_description.txt']\n",
      "bias_types_to_iterate: ['all']\n",
      "scales_to_iterate: [1000.0]\n",
      "probe_training_lr: 0.0003\n",
      "probe_training_weight_decay: 0.02\n",
      "probe_training_early_stopping_patience: 50\n",
      "probe_training_max_iter: 500\n",
      "probe_training_batch_size: 4096\n",
      "probe_training_begin_layer_percent: 25\n",
      "probe_training_downsample: None\n",
      "probe_training_dataset_name: anthropic\n",
      "probe_training_overwrite_previous: True\n",
      "probe_training_anti_bias_statement_file: v2.txt\n",
      "probe_training_job_description_file: base_description.txt\n",
      "probe_vectors_dir: ablation_vectors\n",
      "test_mode: False\n"
     ]
    }
   ],
   "source": [
    "print(data.keys())\n",
    "print(data[\"eval_config\"])\n",
    "\n",
    "for key, value in data[\"eval_config\"].items():\n",
    "    print(f\"{key}: {value}\")\n",
    "\n"
   ]
  },
  {
   "cell_type": "code",
   "execution_count": null,
   "metadata": {},
   "outputs": [],
   "source": []
  }
 ],
 "metadata": {
  "kernelspec": {
   "display_name": ".venv",
   "language": "python",
   "name": "python3"
  },
  "language_info": {
   "codemirror_mode": {
    "name": "ipython",
    "version": 3
   },
   "file_extension": ".py",
   "mimetype": "text/x-python",
   "name": "python",
   "nbconvert_exporter": "python",
   "pygments_lexer": "ipython3",
   "version": "3.10.12"
  }
 },
 "nbformat": 4,
 "nbformat_minor": 2
}
